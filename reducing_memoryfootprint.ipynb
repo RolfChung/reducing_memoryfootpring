{
 "cells": [
  {
   "cell_type": "markdown",
   "metadata": {},
   "source": [
    "## Summary\n",
    "\n",
    "<p>\n",
    "The goal of this project is to optimize memory usage of large (or medium sized) data sets within Pandas. The data set used concerns the exhibitions of the <a href=\"https://www.moma.org/\">Museum of modern art</a>. The data set is taken from <a href=\"https://data.world/moma/exhibitions\">data world</a>. Thanks a lot for their good work!\n",
    "</p> \n",
    "\n",
    "<p>\n",
    "According to data world the exhibition index dataset was compiled by a project team from the MoMA Archives as part of their work to preserve, describe, and open to the public over 22,000 folders of exhibition records dating from 1929 to 1989 from its registrar and curatorial departments.            \n",
    "<p>\n",
    "\n",
    "<p>\n",
    "Memory usage is a challenge when processing data for example with machine\n",
    "learning algorithms. Memory usage can easily stress or override the \n",
    "memory capacity of a single machine, when working with medium size or large data sets. This can lead to hours of processing time. Of course it is possible to employ more machines with parallel computing and use tools like <a href=\"https://spark.apache.org/\"> Spark</a> or others.</p>\n",
    "    \n",
    "<p>\n",
    "There are of course repercussions. For example the\n",
    "fine data analysis capabilities of Pandas are not matched every time \n",
    "with tools like <a href=\"https://dask.org/\">Dask </a> for now. Also\n",
    "as user friendly those tools often are those require set up time. Often you would like to do at least initial work on a single machine, before moving on or not. In this case determining the memory footprint and optimizing data processing comes in handy. \n",
    "Besides Pandas works easily with different SQL tools, which can\n",
    "further reduce the memory footprint.\n",
    "</p>\n",
    "\n",
    "<p>\n",
    "For optimizing data processing the following tasks are carried out here:\n",
    "</p>\n",
    "\n",
    "<ul>\n",
    "\n",
    "<li>data import</li>\n",
    "<li>data visualization</li>\n",
    "<li>make use of arguments of read_csv</li>  \n",
    "<li>understanding the memory footprint</li>\n",
    "<li>calculating memory size on different levels</li>\n",
    "<li>understanding the influence of data types on the the memory footprint</li>  \n",
    "<li>finding the subdatatype, which stores a variablewith the lowest memory footprint</li>\n",
    "<li>dealing with categorical variables</li>\n",
    "<li>calculating memory savings</li>\n",
    "<li>reading in data with chunks</li>\n",
    "<li>combining values generated within each chunk into one total object as a pandas series and benchmark with timeit</li>\n",
    "\n",
    "</ul>\n",
    "    \n",
    "<p>\n",
    "Comments are and explanations are given within the coding.\n",
    "A conclusion is made at the end.\n",
    "</p> \n"
   ]
  },
  {
   "cell_type": "code",
   "execution_count": 189,
   "metadata": {},
   "outputs": [],
   "source": [
    "import os \n",
    "dirpath = os.getcwd()\n",
    "foldername = os.path.basename(dirpath)\n",
    "os.chdir(\"../mona\")\n",
    "dirpath = os.getcwd()"
   ]
  },
  {
   "cell_type": "markdown",
   "metadata": {},
   "source": [
    "## Import packages"
   ]
  },
  {
   "cell_type": "code",
   "execution_count": 318,
   "metadata": {},
   "outputs": [
    {
     "name": "stdout",
     "output_type": "stream",
     "text": [
      "numpy version:  1.16.2\n"
     ]
    }
   ],
   "source": [
    "import pandas as pd\n",
    "\n",
    "import matplotlib.pyplot as plt\n",
    "%matplotlib inline\n",
    "from matplotlib.pyplot import cm\n",
    "from mpl_toolkits.mplot3d import Axes3D\n",
    "import seaborn as sns\n",
    "import timeit\n",
    "\n",
    "plt.rcParams['font.size'] = 11\n",
    "plt.rcParams['font.style'] = 'italic'\n",
    "plt.rcParams['font.family'] = 'monospace'\n",
    "\n",
    "import numpy as np\n",
    "print(\"numpy version: \", np.__version__)\n",
    "import scipy.stats\n",
    "import math\n",
    "import os\n",
    "import types\n",
    "from random import sample\n",
    "from random import choices\n",
    "import random\n",
    "import warnings"
   ]
  },
  {
   "cell_type": "markdown",
   "metadata": {},
   "source": [
    "## Import data"
   ]
  },
  {
   "cell_type": "code",
   "execution_count": 191,
   "metadata": {},
   "outputs": [],
   "source": [
    "modernart = \\\n",
    "pd.read_csv('moma_exhibitions/moma.csv', low_memory=True, header=0, sep=',')"
   ]
  },
  {
   "cell_type": "code",
   "execution_count": 192,
   "metadata": {},
   "outputs": [
    {
     "name": "stdout",
     "output_type": "stream",
     "text": [
      "<class 'pandas.core.frame.DataFrame'>\n",
      "RangeIndex: 34558 entries, 0 to 34557\n",
      "Data columns (total 27 columns):\n",
      "ExhibitionID              34129 non-null float64\n",
      "ExhibitionNumber          34558 non-null object\n",
      "ExhibitionTitle           34558 non-null object\n",
      "ExhibitionCitationDate    34557 non-null object\n",
      "ExhibitionBeginDate       34558 non-null object\n",
      "ExhibitionEndDate         33354 non-null object\n",
      "ExhibitionSortOrder       34558 non-null float64\n",
      "ExhibitionURL             34125 non-null object\n",
      "ExhibitionRole            34424 non-null object\n",
      "ConstituentID             34044 non-null float64\n",
      "ConstituentType           34424 non-null object\n",
      "DisplayName               34424 non-null object\n",
      "AlphaSort                 34424 non-null object\n",
      "FirstName                 31499 non-null object\n",
      "MiddleName                3804 non-null object\n",
      "LastName                  31998 non-null object\n",
      "Suffix                    157 non-null object\n",
      "Institution               2458 non-null object\n",
      "Nationality               26072 non-null object\n",
      "ConstituentBeginDate      25290 non-null float64\n",
      "ConstituentEndDate        19819 non-null float64\n",
      "ArtistBio                 26089 non-null object\n",
      "Gender                    25796 non-null object\n",
      "VIAFID                    26996 non-null float64\n",
      "WikidataID                22241 non-null object\n",
      "ULANID                    21688 non-null float64\n",
      "ConstituentURL            34044 non-null object\n",
      "dtypes: float64(7), object(20)\n",
      "memory usage: 7.1+ MB\n"
     ]
    }
   ],
   "source": [
    "modernart.info()"
   ]
  },
  {
   "cell_type": "markdown",
   "metadata": {},
   "source": [
    "The memory usage is substantial with memory usage: 7.1+ MB."
   ]
  },
  {
   "cell_type": "code",
   "execution_count": 193,
   "metadata": {},
   "outputs": [
    {
     "data": {
      "text/plain": [
       "(34558, 27)"
      ]
     },
     "execution_count": 193,
     "metadata": {},
     "output_type": "execute_result"
    }
   ],
   "source": [
    "modernart.shape"
   ]
  },
  {
   "cell_type": "markdown",
   "metadata": {},
   "source": [
    "34558 observations or records and 27 variables."
   ]
  },
  {
   "cell_type": "markdown",
   "metadata": {},
   "source": [
    "### What is the size of the memory footprint?\n",
    "<p>\n",
    "According to Wikipedia the memory footprint refers to the amount of \n",
    "main memory that a program uses or references while running.\n",
    "</p>\n"
   ]
  },
  {
   "cell_type": "code",
   "execution_count": 194,
   "metadata": {},
   "outputs": [
    {
     "name": "stdout",
     "output_type": "stream",
     "text": [
      "<class 'pandas.core.internals.managers.BlockManager'>\n",
      "BlockManager\n",
      "Items: Index(['ExhibitionID', 'ExhibitionNumber', 'ExhibitionTitle',\n",
      "       'ExhibitionCitationDate', 'ExhibitionBeginDate', 'ExhibitionEndDate',\n",
      "       'ExhibitionSortOrder', 'ExhibitionURL', 'ExhibitionRole',\n",
      "       'ConstituentID', 'ConstituentType', 'DisplayName', 'AlphaSort',\n",
      "       'FirstName', 'MiddleName', 'LastName', 'Suffix', 'Institution',\n",
      "       'Nationality', 'ConstituentBeginDate', 'ConstituentEndDate',\n",
      "       'ArtistBio', 'Gender', 'VIAFID', 'WikidataID', 'ULANID',\n",
      "       'ConstituentURL'],\n",
      "      dtype='object')\n",
      "Axis 1: RangeIndex(start=0, stop=34558, step=1)\n",
      "FloatBlock: [0, 6, 9, 19, 20, 23, 25], 7 x 34558, dtype: float64\n",
      "ObjectBlock: [1, 2, 3, 4, 5, 7, 8, 10, 11, 12, 13, 14, 15, 16, 17, 18, 21, 22, 24, 26], 20 x 34558, dtype: object\n"
     ]
    }
   ],
   "source": [
    "moma_blockdata = modernart._data\n",
    "print(type(moma_blockdata))\n",
    "print(moma_blockdata)"
   ]
  },
  {
   "cell_type": "markdown",
   "metadata": {},
   "source": [
    "Numerics are stored as numpy arrays with 8 bytes for each\n",
    "value. Storing values in numpy arrays is computational efficient.\n",
    "Turning objects like strings into numerics will therefore\n",
    "decrease the memory usage."
   ]
  },
  {
   "cell_type": "code",
   "execution_count": 195,
   "metadata": {},
   "outputs": [
    {
     "name": "stdout",
     "output_type": "stream",
     "text": [
      "276464\n"
     ]
    }
   ],
   "source": [
    "byte_size_float = 34558 * 8\n",
    "print(byte_size_float)"
   ]
  },
  {
   "cell_type": "code",
   "execution_count": 196,
   "metadata": {},
   "outputs": [
    {
     "name": "stdout",
     "output_type": "stream",
     "text": [
      "276464\n",
      "276464\n"
     ]
    }
   ],
   "source": [
    "# the ConstituentBeginDate column consists of 276464 bytes\n",
    "print(modernart.ConstituentBeginDate.nbytes)\n",
    "# the ULANID column consists of 276464 bytes\n",
    "print(modernart.ULANID.nbytes)"
   ]
  },
  {
   "cell_type": "markdown",
   "metadata": {},
   "source": [
    "\n",
    "Object columns store values likewise with 8 bytes but for a \n",
    "different reason. \n",
    "Objects store a pointer of 8 bytes pointing to an adress in memory.\n",
    "This gives a false impression of the actual memory needed to store\n",
    "the object columns."
   ]
  },
  {
   "cell_type": "code",
   "execution_count": 197,
   "metadata": {},
   "outputs": [
    {
     "name": "stdout",
     "output_type": "stream",
     "text": [
      "276464\n",
      "276464\n"
     ]
    }
   ],
   "source": [
    "\n",
    "print(modernart.Gender.nbytes)\n",
    "print(modernart.DisplayName.nbytes)"
   ]
  },
  {
   "cell_type": "markdown",
   "metadata": {},
   "source": [
    "Calculating the exact memory size"
   ]
  },
  {
   "cell_type": "code",
   "execution_count": 198,
   "metadata": {},
   "outputs": [
    {
     "name": "stdout",
     "output_type": "stream",
     "text": [
      "933066\n",
      "933066\n"
     ]
    }
   ],
   "source": [
    "# Return an int representing the number of elements in this object.\n",
    "# Return the number of rows if Series. \n",
    "# Otherwise return the number of rows times number of columns if \n",
    "# DataFrame.\n",
    "print(modernart.size)\n",
    "print(modernart.shape[0]*modernart.shape[1])"
   ]
  },
  {
   "cell_type": "code",
   "execution_count": 199,
   "metadata": {},
   "outputs": [
    {
     "name": "stdout",
     "output_type": "stream",
     "text": [
      "7464528\n",
      "7.1187286376953125\n",
      "7.12\n"
     ]
    }
   ],
   "source": [
    "full_bytesize = modernart.size * 8 \n",
    "full_megabytes = full_bytesize / 1048576 \n",
    "print(full_bytesize)\n",
    "print(full_megabytes)\n",
    "print(round(full_megabytes, 2))"
   ]
  },
  {
   "cell_type": "code",
   "execution_count": 200,
   "metadata": {},
   "outputs": [
    {
     "name": "stdout",
     "output_type": "stream",
     "text": [
      "<class 'pandas.core.frame.DataFrame'>\n",
      "RangeIndex: 34558 entries, 0 to 34557\n",
      "Data columns (total 27 columns):\n",
      "ExhibitionID              34129 non-null float64\n",
      "ExhibitionNumber          34558 non-null object\n",
      "ExhibitionTitle           34558 non-null object\n",
      "ExhibitionCitationDate    34557 non-null object\n",
      "ExhibitionBeginDate       34558 non-null object\n",
      "ExhibitionEndDate         33354 non-null object\n",
      "ExhibitionSortOrder       34558 non-null float64\n",
      "ExhibitionURL             34125 non-null object\n",
      "ExhibitionRole            34424 non-null object\n",
      "ConstituentID             34044 non-null float64\n",
      "ConstituentType           34424 non-null object\n",
      "DisplayName               34424 non-null object\n",
      "AlphaSort                 34424 non-null object\n",
      "FirstName                 31499 non-null object\n",
      "MiddleName                3804 non-null object\n",
      "LastName                  31998 non-null object\n",
      "Suffix                    157 non-null object\n",
      "Institution               2458 non-null object\n",
      "Nationality               26072 non-null object\n",
      "ConstituentBeginDate      25290 non-null float64\n",
      "ConstituentEndDate        19819 non-null float64\n",
      "ArtistBio                 26089 non-null object\n",
      "Gender                    25796 non-null object\n",
      "VIAFID                    26996 non-null float64\n",
      "WikidataID                22241 non-null object\n",
      "ULANID                    21688 non-null float64\n",
      "ConstituentURL            34044 non-null object\n",
      "dtypes: float64(7), object(20)\n",
      "memory usage: 45.6 MB\n",
      "None\n"
     ]
    }
   ],
   "source": [
    "# Doc\n",
    "# Specifies whether total memory usage of the \n",
    "# DataFrame elements (including the index) should be displayed. \n",
    "# Without deep introspection a memory estimation is\n",
    "# made based in column dtype and number of rows assuming \n",
    "# values consume the same memory amount for corresponding dtypes. \n",
    "# With deep memory introspection, a real memory usage calculation \n",
    "# is performed at the cost of computational resources.\n",
    "\n",
    "print(modernart.info(memory_usage='deep'))"
   ]
  },
  {
   "cell_type": "markdown",
   "metadata": {},
   "source": [
    "The full memory usage is 45.6 MB."
   ]
  },
  {
   "cell_type": "code",
   "execution_count": 201,
   "metadata": {},
   "outputs": [
    {
     "name": "stdout",
     "output_type": "stream",
     "text": [
      "38.480000000000004\n"
     ]
    }
   ],
   "source": [
    "object_memory_size = 45.6 - 7.12\n",
    "print(object_memory_size)"
   ]
  },
  {
   "cell_type": "markdown",
   "metadata": {},
   "source": [
    "The object columns needs around 38.48 MB, but this is only\n",
    "an rough assumption."
   ]
  },
  {
   "cell_type": "markdown",
   "metadata": {},
   "source": [
    "Determining the actual memory footprint"
   ]
  },
  {
   "cell_type": "code",
   "execution_count": 202,
   "metadata": {},
   "outputs": [
    {
     "name": "stdout",
     "output_type": "stream",
     "text": [
      "691160\n",
      "(34558, 20)\n"
     ]
    }
   ],
   "source": [
    "object_variables = modernart.select_dtypes(include=['object'])\n",
    "print(object_variables.size)\n",
    "print(object_variables.shape)"
   ]
  },
  {
   "cell_type": "code",
   "execution_count": 285,
   "metadata": {},
   "outputs": [
    {
     "name": "stdout",
     "output_type": "stream",
     "text": [
      "Index                          80\n",
      "ExhibitionNumber          2085250\n",
      "ExhibitionTitle           3467207\n",
      "ExhibitionCitationDate    3577728\n",
      "ExhibitionBeginDate       2281851\n",
      "ExhibitionEndDate         2234872\n",
      "ExhibitionURL             3494606\n",
      "ExhibitionRole            2179383\n",
      "ConstituentType           2313112\n",
      "DisplayName               2548428\n",
      "AlphaSort                 2534329\n",
      "FirstName                 2104909\n",
      "MiddleName                1218917\n",
      "LastName                  2162937\n",
      "Suffix                    1110333\n",
      "Institution               1221368\n",
      "Nationality               1949664\n",
      "ArtistBio                 3183300\n",
      "Gender                    1858994\n",
      "WikidataID                1821293\n",
      "ConstituentURL            2677922\n",
      "dtype: int64\n"
     ]
    },
    {
     "data": {
      "text/plain": [
       "<matplotlib.axes._subplots.AxesSubplot at 0x2756a9316d8>"
      ]
     },
     "execution_count": 285,
     "metadata": {},
     "output_type": "execute_result"
    },
    {
     "data": {
      "image/png": "[encoded data removed]",
      "text/plain": [
       "<Figure size 864x360 with 1 Axes>"
      ]
     },
     "metadata": {
      "needs_background": "light"
     },
     "output_type": "display_data"
    }
   ],
   "source": [
    "memory_used_object = object_variables.memory_usage(deep=True)\n",
    "print(memory_used_object)\n",
    "\n",
    "memory_used_object.sort_values().plot(kind='bar',color=['orange', 'g', 'pink', 'brown'],\n",
    "                                      edgecolor='red', linewidth=2, figsize=(12,5),\n",
    "                                      title=\"memory usage\")"
   ]
  },
  {
   "cell_type": "code",
   "execution_count": 204,
   "metadata": {},
   "outputs": [
    {
     "name": "stdout",
     "output_type": "stream",
     "text": [
      "45892971\n",
      "43.77\n"
     ]
    }
   ],
   "source": [
    "ob_mem_sum = memory_used_object.sum()\n",
    "print(round(ob_mem_sum, 2))\n",
    "\n",
    "ob_mem_sum_mb = ob_mem_sum.sum() /  1048576 \n",
    "print(round(ob_mem_sum_mb, 2))\n"
   ]
  },
  {
   "cell_type": "markdown",
   "metadata": {},
   "source": [
    "Of the total used memory of 45.6 MB 43.77 MB are used by the object\n",
    "(string) columns. Converting string into numerics will drastically\n",
    "decrease the memory usage."
   ]
  },
  {
   "cell_type": "markdown",
   "metadata": {},
   "source": [
    "#### Subtypes of data types"
   ]
  },
  {
   "cell_type": "markdown",
   "metadata": {},
   "source": [
    "<p>\n",
    "Subtypes are subset of base data types. Both make the data type familiy.\n",
    "Subtypes are adapted to represent only a range of values of the parent \n",
    "data type. Using subtypes instead of the base data type reduces the memory\n",
    "footprint.\n",
    "</p> "
   ]
  },
  {
   "cell_type": "code",
   "execution_count": 205,
   "metadata": {},
   "outputs": [
    {
     "name": "stdout",
     "output_type": "stream",
     "text": [
      "Machine parameters for int8\n",
      "---------------------------------------------------------------\n",
      "min = -128\n",
      "max = 127\n",
      "---------------------------------------------------------------\n",
      "\n"
     ]
    }
   ],
   "source": [
    "# int8 represent 8 bits or 1 byte and can represent 2^8 = 256 values \n",
    "# from -128 to 127\n",
    "print(np.iinfo(\"int8\"))"
   ]
  },
  {
   "cell_type": "code",
   "execution_count": 206,
   "metadata": {},
   "outputs": [
    {
     "name": "stdout",
     "output_type": "stream",
     "text": [
      "127\n",
      "-128\n"
     ]
    }
   ],
   "source": [
    "print(np.iinfo(\"int8\").max)\n",
    "print(np.iinfo(\"int8\").min)"
   ]
  },
  {
   "cell_type": "code",
   "execution_count": 207,
   "metadata": {},
   "outputs": [
    {
     "name": "stdout",
     "output_type": "stream",
     "text": [
      "Machine parameters for int8\n",
      "---------------------------------------------------------------\n",
      "min = -128\n",
      "max = 127\n",
      "---------------------------------------------------------------\n",
      "\n",
      "Machine parameters for int16\n",
      "---------------------------------------------------------------\n",
      "min = -32768\n",
      "max = 32767\n",
      "---------------------------------------------------------------\n",
      "\n",
      "Machine parameters for int32\n",
      "---------------------------------------------------------------\n",
      "min = -2147483648\n",
      "max = 2147483647\n",
      "---------------------------------------------------------------\n",
      "\n",
      "Machine parameters for int64\n",
      "---------------------------------------------------------------\n",
      "min = -9223372036854775808\n",
      "max = 9223372036854775807\n",
      "---------------------------------------------------------------\n",
      "\n"
     ]
    }
   ],
   "source": [
    "int_types = [\"int8\", \"int16\", \"int32\", \"int64\"]\n",
    "for it in int_types:\n",
    "     print(np.iinfo(it))"
   ]
  },
  {
   "cell_type": "code",
   "execution_count": 208,
   "metadata": {},
   "outputs": [
    {
     "data": {
      "text/plain": [
       "ExhibitionID              429\n",
       "ExhibitionSortOrder         0\n",
       "ConstituentID             514\n",
       "ConstituentBeginDate     9268\n",
       "ConstituentEndDate      14739\n",
       "VIAFID                   7562\n",
       "ULANID                  12870\n",
       "dtype: int64"
      ]
     },
     "execution_count": 208,
     "metadata": {},
     "output_type": "execute_result"
    }
   ],
   "source": [
    "modernart.select_dtypes(include=\"float\").isnull().sum()"
   ]
  },
  {
   "cell_type": "code",
   "execution_count": 209,
   "metadata": {},
   "outputs": [
    {
     "name": "stdout",
     "output_type": "stream",
     "text": [
      "1768.0\n",
      "1.0\n",
      "127\n",
      "-128\n"
     ]
    }
   ],
   "source": [
    "ex_max = modernart.ExhibitionSortOrder.max()\n",
    "ex_min = modernart.ExhibitionSortOrder.min()\n",
    "\n",
    "print(ex_max)\n",
    "print(ex_min)\n",
    "\n",
    "print(np.iinfo(\"int8\").max)\n",
    "print(np.iinfo(\"int8\").min)"
   ]
  },
  {
   "cell_type": "markdown",
   "metadata": {},
   "source": [
    "Finding the subdatatype, which stores a variable (ExhibitionSortOrder) \n",
    "with the lowest memory footprint."
   ]
  },
  {
   "cell_type": "code",
   "execution_count": 210,
   "metadata": {},
   "outputs": [
    {
     "name": "stdout",
     "output_type": "stream",
     "text": [
      "int8: False\n",
      "int16: True\n",
      "memory usage: 69196 bytes\n",
      "data type: int16\n",
      "int32: True\n",
      "memory usage: 138312 bytes\n",
      "data type: int32\n",
      "int64: True\n",
      "memory usage: 276544 bytes\n",
      "data type: int64\n"
     ]
    }
   ],
   "source": [
    "if ex_max < np.iinfo(\"int8\").max and ex_min > np.iinfo(\"int8\").min:\n",
    "    print(\"int8:\", True)\n",
    "    ex_8 = modernart.ExhibitionSortOrder.astype(\"int8\")\n",
    "    print(\"memory usage:\",ex_8.memory_usage(deep=True), \"bytes\")\n",
    "    print(\"data type:\", ex_8.dtype)\n",
    "else:\n",
    "    print(\"int8:\", False)\n",
    "    \n",
    "if ex_max < np.iinfo(\"int16\").max and ex_min > np.iinfo(\"int16\").min:\n",
    "    print('int16:', True)\n",
    "    ex_16 = modernart.ExhibitionSortOrder.astype(\"int16\")\n",
    "    print(\"memory usage:\",ex_16.memory_usage(deep=True), \"bytes\")\n",
    "    print(\"data type:\", ex_16.dtype)\n",
    "else:\n",
    "    print('int16:', False)\n",
    "    \n",
    "if ex_max < np.iinfo(\"int32\").max and ex_min > np.iinfo(\"int32\").min:\n",
    "    print('int32:', True)\n",
    "    ex_32 = modernart.ExhibitionSortOrder.astype(\"int32\")\n",
    "    print(\"memory usage:\", ex_32.memory_usage(deep=True), \"bytes\")\n",
    "    print(\"data type:\", ex_32.dtype)\n",
    "else:\n",
    "    print('int32:', False)\n",
    "    \n",
    "if ex_max < np.iinfo(\"int64\").max and ex_min > np.iinfo(\"int64\").min:\n",
    "    print('int64:', True)\n",
    "    ex_64 = modernart.ExhibitionSortOrder.astype(\"int64\")\n",
    "    print(\"memory usage:\", ex_64.memory_usage(deep=True), \"bytes\")\n",
    "    print(\"data type:\", ex_64.dtype)\n",
    "else:\n",
    "    print('int64:', False)"
   ]
  },
  {
   "cell_type": "markdown",
   "metadata": {},
   "source": [
    "The values in column ExhibitionSortOrder are stored with the\n",
    "smallest memory usage: 69196 as in16. All other subtypes increase the \n",
    "memory footprint."
   ]
  },
  {
   "cell_type": "code",
   "execution_count": 211,
   "metadata": {},
   "outputs": [
    {
     "name": "stdout",
     "output_type": "stream",
     "text": [
      "69196\n"
     ]
    }
   ],
   "source": [
    "total_bytes = len(modernart)*2 + 80 \n",
    "# 80 bytes are needed for the index\n",
    "# this makes then the total memory usage\n",
    "print(total_bytes)"
   ]
  },
  {
   "cell_type": "code",
   "execution_count": 212,
   "metadata": {},
   "outputs": [
    {
     "name": "stdout",
     "output_type": "stream",
     "text": [
      "int32\n",
      "int16\n"
     ]
    }
   ],
   "source": [
    "# the downcast parameter determines the optimal subtype with the\n",
    "# lowest memory footprint\n",
    "\n",
    "modernart.ExhibitionSortOrder = modernart.ExhibitionSortOrder.astype('int')\n",
    "before_1 = modernart.ExhibitionSortOrder.dtype\n",
    "print(before_1)\n",
    "modernart.ExhibitionSortOrder= \\\n",
    "pd.to_numeric(modernart.ExhibitionSortOrder, downcast='integer')\n",
    "print(modernart.ExhibitionSortOrder.dtype)"
   ]
  },
  {
   "cell_type": "code",
   "execution_count": 213,
   "metadata": {},
   "outputs": [
    {
     "name": "stdout",
     "output_type": "stream",
     "text": [
      "ExhibitionID            float64\n",
      "ConstituentID           float64\n",
      "ConstituentBeginDate    float64\n",
      "ConstituentEndDate      float64\n",
      "VIAFID                  float64\n",
      "ULANID                  float64\n",
      "dtype: object\n",
      "<class 'pandas.core.frame.DataFrame'>\n",
      "(34558, 6)\n"
     ]
    }
   ],
   "source": [
    "float_cols = modernart.select_dtypes(include=['float'])\n",
    "\n",
    "print(float_cols.dtypes)\n",
    "print(type(float_cols))\n",
    "print(float_cols.shape)\n"
   ]
  },
  {
   "cell_type": "code",
   "execution_count": 214,
   "metadata": {},
   "outputs": [
    {
     "name": "stdout",
     "output_type": "stream",
     "text": [
      "ExhibitionID\n",
      "ConstituentID\n",
      "ConstituentBeginDate\n",
      "ConstituentEndDate\n",
      "VIAFID\n",
      "ULANID\n"
     ]
    }
   ],
   "source": [
    "for col in float_cols.columns:\n",
    "    print(col)"
   ]
  },
  {
   "cell_type": "code",
   "execution_count": 215,
   "metadata": {},
   "outputs": [
    {
     "name": "stdout",
     "output_type": "stream",
     "text": [
      "ExhibitionID            float32\n",
      "ConstituentID           float32\n",
      "ConstituentBeginDate    float32\n",
      "ConstituentEndDate      float32\n",
      "VIAFID                  float32\n",
      "ULANID                  float32\n",
      "dtype: object\n",
      "1041\n"
     ]
    }
   ],
   "source": [
    "for col in float_cols.columns:\n",
    "    modernart[col] = pd.to_numeric(modernart[col], downcast='float')\n",
    "\n",
    "# print(modernart.dtypes)   \n",
    "    \n",
    "float_cols_2 = modernart.select_dtypes(include=['float32']).dtypes\n",
    "\n",
    "print(float_cols_2)\n",
    "print(float_cols_2.memory_usage(deep=True))"
   ]
  },
  {
   "cell_type": "markdown",
   "metadata": {},
   "source": [
    "The float data types are casted down to float 32, which lead less values \n",
    "than float 64."
   ]
  },
  {
   "cell_type": "markdown",
   "metadata": {},
   "source": [
    "#### Are there variables of type datetime?"
   ]
  },
  {
   "cell_type": "code",
   "execution_count": 216,
   "metadata": {},
   "outputs": [
    {
     "data": {
      "text/plain": [
       "ExhibitionNumber          object\n",
       "ExhibitionTitle           object\n",
       "ExhibitionCitationDate    object\n",
       "ExhibitionBeginDate       object\n",
       "ExhibitionEndDate         object\n",
       "ExhibitionURL             object\n",
       "dtype: object"
      ]
     },
     "execution_count": 216,
     "metadata": {},
     "output_type": "execute_result"
    }
   ],
   "source": [
    "modernart.select_dtypes(include=['object']).dtypes[:6]"
   ]
  },
  {
   "cell_type": "markdown",
   "metadata": {},
   "source": [
    "There are some columns with dates."
   ]
  },
  {
   "cell_type": "code",
   "execution_count": 217,
   "metadata": {},
   "outputs": [
    {
     "name": "stdout",
     "output_type": "stream",
     "text": [
      "<class 'str'>\n",
      "<class 'str'>\n",
      "<class 'str'>\n"
     ]
    }
   ],
   "source": [
    "dates = ['ExhibitionCitationDate' , 'ExhibitionBeginDate',\n",
    "         'ExhibitionEndDate']\n",
    "for i in dates:\n",
    "    print(type(modernart.loc[3,i]))"
   ]
  },
  {
   "cell_type": "code",
   "execution_count": 218,
   "metadata": {},
   "outputs": [
    {
     "name": "stdout",
     "output_type": "stream",
     "text": [
      "0    [MoMA Exh. #1, November 7-December 7, 1929]\n",
      "1    [MoMA Exh. #1, November 7-December 7, 1929]\n",
      "2    [MoMA Exh. #1, November 7-December 7, 1929]\n",
      "3    [MoMA Exh. #1, November 7-December 7, 1929]\n",
      "Name: ExhibitionCitationDate, dtype: object\n",
      "0    11/7/1929\n",
      "1    11/7/1929\n",
      "2    11/7/1929\n",
      "3    11/7/1929\n",
      "Name: ExhibitionBeginDate, dtype: object\n",
      "0    12/7/1929\n",
      "1    12/7/1929\n",
      "2    12/7/1929\n",
      "3    12/7/1929\n",
      "Name: ExhibitionEndDate, dtype: object\n"
     ]
    }
   ],
   "source": [
    "for i in dates:\n",
    "    print(modernart.loc[:3,i])"
   ]
  },
  {
   "cell_type": "markdown",
   "metadata": {},
   "source": [
    "Relevant are ExhibitionBeginDate and ExhibitionEndDate."
   ]
  },
  {
   "cell_type": "code",
   "execution_count": 219,
   "metadata": {},
   "outputs": [
    {
     "name": "stdout",
     "output_type": "stream",
     "text": [
      "1\n",
      "0\n",
      "1204\n"
     ]
    }
   ],
   "source": [
    "for i in dates:\n",
    "    print(modernart[i].isnull().sum())"
   ]
  },
  {
   "cell_type": "code",
   "execution_count": 220,
   "metadata": {},
   "outputs": [],
   "source": [
    "modernart['ExhibitionBeginDate']= \\\n",
    "pd.to_datetime(modernart['ExhibitionBeginDate'], format='%m/%d/%Y')\n",
    "\n",
    "modernart['ExhibitionEndDate']= \\\n",
    "pd.to_datetime(modernart['ExhibitionEndDate'], format='%m/%d/%Y')"
   ]
  },
  {
   "cell_type": "code",
   "execution_count": 221,
   "metadata": {},
   "outputs": [
    {
     "data": {
      "text/plain": [
       "ExhibitionBeginDate    datetime64[ns]\n",
       "ExhibitionEndDate      datetime64[ns]\n",
       "dtype: object"
      ]
     },
     "execution_count": 221,
     "metadata": {},
     "output_type": "execute_result"
    }
   ],
   "source": [
    "modernart.select_dtypes(include=['datetime']).dtypes"
   ]
  },
  {
   "cell_type": "code",
   "execution_count": 222,
   "metadata": {},
   "outputs": [
    {
     "name": "stdout",
     "output_type": "stream",
     "text": [
      "276544\n",
      "276544\n"
     ]
    }
   ],
   "source": [
    "print(modernart['ExhibitionBeginDate'].memory_usage(deep=True))\n",
    "print(modernart['ExhibitionEndDate'].memory_usage(deep=True))"
   ]
  },
  {
   "cell_type": "markdown",
   "metadata": {},
   "source": [
    "#### Categorical variables\n",
    "<p>\n",
    "are stored internally as integers\n",
    "by mapping a dictionary onto the categorical variable. \n",
    "This is similar to encoding explicitly in scikit.\n",
    "Converting from type object or string to a categorical\n",
    "variable reduces the memory footprint.\n",
    "</p> "
   ]
  },
  {
   "cell_type": "code",
   "execution_count": 223,
   "metadata": {},
   "outputs": [
    {
     "name": "stdout",
     "output_type": "stream",
     "text": [
      "Individual     32008\n",
      "Institution     2416\n",
      "Name: ConstituentType, dtype: int64\n",
      "['Individual' nan 'Institution']\n"
     ]
    }
   ],
   "source": [
    "print(modernart.ConstituentType.value_counts())\n",
    "print(modernart.ConstituentType.unique())\n",
    "# the values are strings"
   ]
  },
  {
   "cell_type": "code",
   "execution_count": 224,
   "metadata": {},
   "outputs": [
    {
     "name": "stdout",
     "output_type": "stream",
     "text": [
      "2313192\n"
     ]
    }
   ],
   "source": [
    "print(modernart.ConstituentType.memory_usage(deep=True))"
   ]
  },
  {
   "cell_type": "code",
   "execution_count": 225,
   "metadata": {},
   "outputs": [
    {
     "name": "stdout",
     "output_type": "stream",
     "text": [
      "34853\n"
     ]
    }
   ],
   "source": [
    "modernart.ConstituentType = modernart.ConstituentType.astype('category')\n",
    "print(modernart.ConstituentType.memory_usage(deep=True))"
   ]
  },
  {
   "cell_type": "code",
   "execution_count": 226,
   "metadata": {},
   "outputs": [
    {
     "data": {
      "text/plain": [
       "2278339"
      ]
     },
     "execution_count": 226,
     "metadata": {},
     "output_type": "execute_result"
    }
   ],
   "source": [
    "2313192 - 34853"
   ]
  },
  {
   "cell_type": "markdown",
   "metadata": {},
   "source": [
    "Storing as categorical variables resulted in the reduction of\n",
    "2278339 bytes.\n",
    "Unless you ask for the integers the categorical values are still displayed as strings."
   ]
  },
  {
   "cell_type": "code",
   "execution_count": 265,
   "metadata": {},
   "outputs": [
    {
     "name": "stdout",
     "output_type": "stream",
     "text": [
      "0    0\n",
      "1    0\n",
      "2    0\n",
      "3    0\n",
      "4    0\n",
      "5    0\n",
      "6    0\n",
      "7    0\n",
      "8    0\n",
      "9    0\n",
      "dtype: int8\n",
      " 0    32008\n",
      " 1     2416\n",
      "-1      134\n",
      "dtype: int64\n"
     ]
    },
    {
     "data": {
      "text/plain": [
       "<matplotlib.axes._subplots.AxesSubplot at 0x2756ac01be0>"
      ]
     },
     "execution_count": 265,
     "metadata": {},
     "output_type": "execute_result"
    },
    {
     "data": {
      "image/png": "[encoded data removed]",
      "text/plain": [
       "<Figure size 432x288 with 1 Axes>"
      ]
     },
     "metadata": {
      "needs_background": "light"
     },
     "output_type": "display_data"
    }
   ],
   "source": [
    "print(modernart.ConstituentType.cat.codes.head(10))\n",
    "print(modernart.ConstituentType.cat.codes.value_counts())\n",
    "\n",
    "# -1 are the null values, which type categorical can handle\n",
    "# meaning cleaning is not needed beforehand\n",
    "\n",
    "modernart.ConstituentType.cat.codes.value_counts().plot(kind='bar', color=['r','b','g'],\n",
    "                                                        edgecolor=\"black\", linewidth=1.5,\n",
    "                                                        title=\"Value counts of integer labels\")"
   ]
  },
  {
   "cell_type": "markdown",
   "metadata": {},
   "source": [
    "Investigating the unique values of variables of type object.\n",
    "Variables where unique values make less than 50 percent of\n",
    "total count of values are transformed into categorical variables.\n",
    "If every values is unique "
   ]
  },
  {
   "cell_type": "code",
   "execution_count": 228,
   "metadata": {},
   "outputs": [],
   "source": [
    "object_names = \\\n",
    "modernart.select_dtypes(include=['object']).dtypes.index.to_list()"
   ]
  },
  {
   "cell_type": "code",
   "execution_count": 229,
   "metadata": {},
   "outputs": [],
   "source": [
    "ratio_unique_total = {}\n",
    "\n",
    "for i in object_names:\n",
    "    unique_len = len(modernart[i].unique())\n",
    "    total_len = len(modernart[i])\n",
    "    ratio = round(unique_len / total_len, 2)\n",
    "    \n",
    "    ratio_unique_total[i] = ratio\n",
    "    "
   ]
  },
  {
   "cell_type": "code",
   "execution_count": 230,
   "metadata": {},
   "outputs": [
    {
     "name": "stdout",
     "output_type": "stream",
     "text": [
      "17\n",
      "{'ExhibitionNumber': 0.05, 'ExhibitionTitle': 0.05, 'ExhibitionCitationDate': 0.05, 'ExhibitionURL': 0.05, 'ExhibitionRole': 0.0, 'DisplayName': 0.34, 'AlphaSort': 0.34, 'FirstName': 0.09, 'MiddleName': 0.02, 'LastName': 0.22, 'Suffix': 0.0, 'Institution': 0.05, 'Nationality': 0.0, 'ArtistBio': 0.1, 'Gender': 0.0, 'WikidataID': 0.1, 'ConstituentURL': 0.33}\n",
      "dict_items([('ExhibitionNumber', 0.05), ('ExhibitionTitle', 0.05), ('ExhibitionCitationDate', 0.05), ('ExhibitionURL', 0.05), ('ExhibitionRole', 0.0), ('DisplayName', 0.34), ('AlphaSort', 0.34), ('FirstName', 0.09), ('MiddleName', 0.02), ('LastName', 0.22), ('Suffix', 0.0), ('Institution', 0.05), ('Nationality', 0.0), ('ArtistBio', 0.1), ('Gender', 0.0), ('WikidataID', 0.1), ('ConstituentURL', 0.33)])\n",
      "dict_keys(['ExhibitionNumber', 'ExhibitionTitle', 'ExhibitionCitationDate', 'ExhibitionURL', 'ExhibitionRole', 'DisplayName', 'AlphaSort', 'FirstName', 'MiddleName', 'LastName', 'Suffix', 'Institution', 'Nationality', 'ArtistBio', 'Gender', 'WikidataID', 'ConstituentURL'])\n",
      "dict_values([0.05, 0.05, 0.05, 0.05, 0.0, 0.34, 0.34, 0.09, 0.02, 0.22, 0.0, 0.05, 0.0, 0.1, 0.0, 0.1, 0.33])\n"
     ]
    }
   ],
   "source": [
    "# investigating the resulting dictionary\n",
    "print(len(ratio_unique_total))\n",
    "print(ratio_unique_total)\n",
    "print(ratio_unique_total.items())\n",
    "print(ratio_unique_total.keys())\n",
    "print(ratio_unique_total.values())"
   ]
  },
  {
   "cell_type": "code",
   "execution_count": 231,
   "metadata": {},
   "outputs": [
    {
     "name": "stdout",
     "output_type": "stream",
     "text": [
      "{('Suffix', 0.0), ('ExhibitionCitationDate', 0.05), ('Institution', 0.05), ('MiddleName', 0.02), ('ExhibitionTitle', 0.05), ('ConstituentURL', 0.33), ('Nationality', 0.0), ('ExhibitionNumber', 0.05), ('ExhibitionURL', 0.05), ('AlphaSort', 0.34), ('Gender', 0.0), ('ArtistBio', 0.1), ('DisplayName', 0.34), ('FirstName', 0.09), ('WikidataID', 0.1), ('LastName', 0.22), ('ExhibitionRole', 0.0)}\n",
      "17\n"
     ]
    }
   ],
   "source": [
    "# query key, value pairs with less than 50 percent unique values.\n",
    "\n",
    "ratio_above_50 = \\\n",
    "{(k,v) for k,v in ratio_unique_total.items() if v < 0.5}\n",
    "print(ratio_above_50 )\n",
    "print(len(ratio_above_50))\n",
    "\n",
    "# all key, value pairs have less than 50 percent unique values."
   ]
  },
  {
   "cell_type": "code",
   "execution_count": 232,
   "metadata": {},
   "outputs": [
    {
     "name": "stdout",
     "output_type": "stream",
     "text": [
      "ExhibitionNumber          category\n",
      "ExhibitionTitle           category\n",
      "ExhibitionCitationDate    category\n",
      "ExhibitionURL             category\n",
      "ExhibitionRole            category\n",
      "ConstituentType           category\n",
      "DisplayName               category\n",
      "AlphaSort                 category\n",
      "FirstName                 category\n",
      "MiddleName                category\n",
      "LastName                  category\n",
      "Suffix                    category\n",
      "Institution               category\n",
      "Nationality               category\n",
      "ArtistBio                 category\n",
      "Gender                    category\n",
      "WikidataID                category\n",
      "ConstituentURL            category\n",
      "dtype: object\n"
     ]
    }
   ],
   "source": [
    "# showing newly created datatypes category\n",
    "modernart_2 = modernart.copy()\n",
    "object_22 = modernart_2.select_dtypes(include=['object'])\n",
    "modernart_2[object_22.columns.to_list()] = object_22.astype('category')\n",
    "print(modernart_2.select_dtypes(include=['category']).dtypes)"
   ]
  },
  {
   "cell_type": "code",
   "execution_count": 233,
   "metadata": {},
   "outputs": [],
   "source": [
    "obj_mem_1 = \\\n",
    "modernart_2[object_22.columns.to_list()].memory_usage(deep=True)\n",
    "obj_mem_2 = \\\n",
    "modernart[object_22.columns.to_list()].memory_usage(deep=True)"
   ]
  },
  {
   "cell_type": "code",
   "execution_count": 234,
   "metadata": {},
   "outputs": [
    {
     "data": {
      "text/html": [
       "<div>\n",
       "<style scoped>\n",
       "    .dataframe tbody tr th:only-of-type {\n",
       "        vertical-align: middle;\n",
       "    }\n",
       "\n",
       "    .dataframe tbody tr th {\n",
       "        vertical-align: top;\n",
       "    }\n",
       "\n",
       "    .dataframe thead th {\n",
       "        text-align: right;\n",
       "    }\n",
       "</style>\n",
       "<table border=\"1\" class=\"dataframe\">\n",
       "  <thead>\n",
       "    <tr style=\"text-align: right;\">\n",
       "      <th></th>\n",
       "      <th>obj</th>\n",
       "      <th>cat</th>\n",
       "      <th>mem_saving</th>\n",
       "    </tr>\n",
       "  </thead>\n",
       "  <tbody>\n",
       "    <tr>\n",
       "      <th>Index</th>\n",
       "      <td>80</td>\n",
       "      <td>80</td>\n",
       "      <td>0</td>\n",
       "    </tr>\n",
       "    <tr>\n",
       "      <th>ExhibitionNumber</th>\n",
       "      <td>2085250</td>\n",
       "      <td>255893</td>\n",
       "      <td>1829357</td>\n",
       "    </tr>\n",
       "    <tr>\n",
       "      <th>ExhibitionTitle</th>\n",
       "      <td>3467207</td>\n",
       "      <td>313108</td>\n",
       "      <td>3154099</td>\n",
       "    </tr>\n",
       "    <tr>\n",
       "      <th>ExhibitionCitationDate</th>\n",
       "      <td>3577728</td>\n",
       "      <td>333456</td>\n",
       "      <td>3244272</td>\n",
       "    </tr>\n",
       "    <tr>\n",
       "      <th>ExhibitionURL</th>\n",
       "      <td>3494606</td>\n",
       "      <td>326782</td>\n",
       "      <td>3167824</td>\n",
       "    </tr>\n",
       "    <tr>\n",
       "      <th>ExhibitionRole</th>\n",
       "      <td>2179383</td>\n",
       "      <td>36263</td>\n",
       "      <td>2143120</td>\n",
       "    </tr>\n",
       "    <tr>\n",
       "      <th>DisplayName</th>\n",
       "      <td>2548428</td>\n",
       "      <td>1253535</td>\n",
       "      <td>1294893</td>\n",
       "    </tr>\n",
       "    <tr>\n",
       "      <th>AlphaSort</th>\n",
       "      <td>2534329</td>\n",
       "      <td>1246259</td>\n",
       "      <td>1288070</td>\n",
       "    </tr>\n",
       "    <tr>\n",
       "      <th>FirstName</th>\n",
       "      <td>2104909</td>\n",
       "      <td>341491</td>\n",
       "      <td>1763418</td>\n",
       "    </tr>\n",
       "    <tr>\n",
       "      <th>MiddleName</th>\n",
       "      <td>1218917</td>\n",
       "      <td>127542</td>\n",
       "      <td>1091375</td>\n",
       "    </tr>\n",
       "    <tr>\n",
       "      <th>LastName</th>\n",
       "      <td>2162937</td>\n",
       "      <td>891324</td>\n",
       "      <td>1271613</td>\n",
       "    </tr>\n",
       "    <tr>\n",
       "      <th>Suffix</th>\n",
       "      <td>1110333</td>\n",
       "      <td>36285</td>\n",
       "      <td>1074048</td>\n",
       "    </tr>\n",
       "    <tr>\n",
       "      <th>Institution</th>\n",
       "      <td>1221368</td>\n",
       "      <td>284103</td>\n",
       "      <td>937265</td>\n",
       "    </tr>\n",
       "    <tr>\n",
       "      <th>Nationality</th>\n",
       "      <td>1949664</td>\n",
       "      <td>42037</td>\n",
       "      <td>1907627</td>\n",
       "    </tr>\n",
       "    <tr>\n",
       "      <th>ArtistBio</th>\n",
       "      <td>3183300</td>\n",
       "      <td>618551</td>\n",
       "      <td>2564749</td>\n",
       "    </tr>\n",
       "    <tr>\n",
       "      <th>Gender</th>\n",
       "      <td>1858994</td>\n",
       "      <td>34823</td>\n",
       "      <td>1824171</td>\n",
       "    </tr>\n",
       "    <tr>\n",
       "      <th>WikidataID</th>\n",
       "      <td>1821293</td>\n",
       "      <td>448461</td>\n",
       "      <td>1372832</td>\n",
       "    </tr>\n",
       "    <tr>\n",
       "      <th>ConstituentURL</th>\n",
       "      <td>2677922</td>\n",
       "      <td>1281201</td>\n",
       "      <td>1396721</td>\n",
       "    </tr>\n",
       "  </tbody>\n",
       "</table>\n",
       "</div>"
      ],
      "text/plain": [
       "                            obj      cat  mem_saving\n",
       "Index                        80       80           0\n",
       "ExhibitionNumber        2085250   255893     1829357\n",
       "ExhibitionTitle         3467207   313108     3154099\n",
       "ExhibitionCitationDate  3577728   333456     3244272\n",
       "ExhibitionURL           3494606   326782     3167824\n",
       "ExhibitionRole          2179383    36263     2143120\n",
       "DisplayName             2548428  1253535     1294893\n",
       "AlphaSort               2534329  1246259     1288070\n",
       "FirstName               2104909   341491     1763418\n",
       "MiddleName              1218917   127542     1091375\n",
       "LastName                2162937   891324     1271613\n",
       "Suffix                  1110333    36285     1074048\n",
       "Institution             1221368   284103      937265\n",
       "Nationality             1949664    42037     1907627\n",
       "ArtistBio               3183300   618551     2564749\n",
       "Gender                  1858994    34823     1824171\n",
       "WikidataID              1821293   448461     1372832\n",
       "ConstituentURL          2677922  1281201     1396721"
      ]
     },
     "execution_count": 234,
     "metadata": {},
     "output_type": "execute_result"
    }
   ],
   "source": [
    "comp_mem = pd.concat([obj_mem_2, obj_mem_1], axis=1)\n",
    "comp_mem.columns = ['obj', 'cat']\n",
    "comp_mem['mem_saving'] = comp_mem.obj - comp_mem.cat\n",
    "comp_mem"
   ]
  },
  {
   "cell_type": "code",
   "execution_count": 278,
   "metadata": {},
   "outputs": [
    {
     "data": {
      "image/png": "[encoded data removed]",
      "text/plain": [
       "<Figure size 864x360 with 1 Axes>"
      ]
     },
     "metadata": {
      "needs_background": "light"
     },
     "output_type": "display_data"
    }
   ],
   "source": [
    "comp_mem['mem_saving'].sort_values(ascending=False).plot(kind='bar', color=['r','b','g'], \n",
    "                                                         edgecolor=\"black\", linewidth=1.5,\n",
    "                                                         title=\"memory saving through changing \\n to categorical type\",\n",
    "                                                         figsize=(12,5))\n",
    "plt.show()"
   ]
  },
  {
   "cell_type": "markdown",
   "metadata": {},
   "source": [
    "#### Using read_csv arguments to change dtypes and reduce the memory footprint"
   ]
  },
  {
   "cell_type": "code",
   "execution_count": 235,
   "metadata": {},
   "outputs": [],
   "source": [
    "date_vars = ['ExhibitionBeginDate', 'ExhibitionEndDate']\n",
    "\n",
    "non_redundant_cols = \\\n",
    "['ExhibitionID', 'ExhibitionNumber', 'ExhibitionBeginDate', \n",
    " 'ExhibitionEndDate', 'ExhibitionSortOrder', 'ExhibitionRole', \n",
    " 'ConstituentType', 'DisplayName', 'Institution', 'Nationality', \n",
    " 'Gender']\n",
    "\n",
    "col_types = {\"id\": np.int32}"
   ]
  },
  {
   "cell_type": "code",
   "execution_count": 236,
   "metadata": {},
   "outputs": [],
   "source": [
    "modernart_3 = \\\n",
    "pd.read_csv('moma_exhibitions/moma.csv', low_memory=True, \n",
    "             header=0, sep=',' , parse_dates = date_vars,\n",
    "             usecols=non_redundant_cols,\n",
    "             dtype=col_types)"
   ]
  },
  {
   "cell_type": "code",
   "execution_count": 237,
   "metadata": {},
   "outputs": [
    {
     "data": {
      "text/plain": [
       "14.555106163024902"
      ]
     },
     "execution_count": 237,
     "metadata": {},
     "output_type": "execute_result"
    }
   ],
   "source": [
    "modernart_3.memory_usage(deep=True).sum()/(1024*1024)\n",
    "# memory foot in megabytes"
   ]
  },
  {
   "cell_type": "markdown",
   "metadata": {},
   "source": [
    "#### Chunks\n",
    "\n",
    "<p>\n",
    "Chunks are parts of a dataset. Reading in chunks reduces the memory size needed\n",
    "at a time. This allows to process even large data sets.\n",
    "However as every chunk is processed on it's own there are as many different\n",
    "results of operations as there are chunks. The results must then be synthesized\n",
    "with additional code.\n",
    "</p> "
   ]
  },
  {
   "cell_type": "code",
   "execution_count": 238,
   "metadata": {},
   "outputs": [
    {
     "name": "stdout",
     "output_type": "stream",
     "text": [
      "(34558, 27)\n"
     ]
    }
   ],
   "source": [
    "print(modernart.shape)"
   ]
  },
  {
   "cell_type": "code",
   "execution_count": 296,
   "metadata": {},
   "outputs": [
    {
     "name": "stdout",
     "output_type": "stream",
     "text": [
      "<class 'pandas.io.parsers.TextFileReader'>\n"
     ]
    }
   ],
   "source": [
    "chunk_iter = pd.read_csv('moma_exhibitions/moma.csv', chunksize=1000)\n",
    "print(type(chunk_iterations))\n",
    "# chunksize returns an iteration object, which can then be iterated."
   ]
  },
  {
   "cell_type": "code",
   "execution_count": 240,
   "metadata": {},
   "outputs": [
    {
     "name": "stdout",
     "output_type": "stream",
     "text": [
      "[1000, 1000, 1000, 1000, 1000, 1000, 1000, 1000, 1000, 1000, 1000, 1000, 1000, 1000, 1000, 1000, 1000, 1000, 1000, 1000, 1000, 1000, 1000, 1000, 1000, 1000, 1000, 1000, 1000, 1000, 1000, 1000, 1000, 1000, 558]\n"
     ]
    }
   ],
   "source": [
    "len_chunks = []\n",
    "\n",
    "for chunk in chunk_iter:\n",
    "    len_chunks.append(len(chunk))\n",
    "    \n",
    "print(len_chunks)"
   ]
  },
  {
   "cell_type": "code",
   "execution_count": 258,
   "metadata": {},
   "outputs": [
    {
     "data": {
      "image/png": "[encoded data removed]",
      "text/plain": [
       "<Figure size 936x360 with 2 Axes>"
      ]
     },
     "metadata": {
      "needs_background": "light"
     },
     "output_type": "display_data"
    }
   ],
   "source": [
    "fig, (ax1, ax2) = plt.subplots(1,2, figsize=(13,5))\n",
    "\n",
    "ax1.hist(memory_footprints, color=\"red\", edgecolor='black', linewidth=1.5)\n",
    "ax1.set_xlabel('megabytes')\n",
    "ax1.set_ylabel('frequencies')\n",
    "ax1.set_title(\"memory footprints\")\n",
    "\n",
    "ax2.hist(memory_footprints, color=\"green\", edgecolor='black', linewidth=1.5, cumulative = True)\n",
    "ax2.set_xlabel('megabytes')\n",
    "ax2.set_ylabel('frequencies')\n",
    "ax2.set_title(\"memory footprints cumulative\")\n",
    "\n",
    "plt.show()"
   ]
  },
  {
   "cell_type": "code",
   "execution_count": 342,
   "metadata": {},
   "outputs": [],
   "source": [
    "chunk_iter_2 = pd.read_csv('moma_exhibitions/moma.csv', chunksize=1000)\n",
    "\n",
    "num_rows = 0\n",
    "\n",
    "for chunk in chunk_iter_2:\n",
    "    num_rows += len(chunk)"
   ]
  },
  {
   "cell_type": "code",
   "execution_count": 343,
   "metadata": {},
   "outputs": [
    {
     "name": "stdout",
     "output_type": "stream",
     "text": [
      "34558\n",
      "(34558, 27)\n"
     ]
    }
   ],
   "source": [
    "print(num_rows)\n",
    "print(modernart.shape)"
   ]
  },
  {
   "cell_type": "markdown",
   "metadata": {},
   "source": [
    "#### Combining values generated within each chunk into one total object as a pandas series and benchmark with timeit."
   ]
  },
  {
   "cell_type": "markdown",
   "metadata": {},
   "source": [
    "#### Constituent"
   ]
  },
  {
   "cell_type": "code",
   "execution_count": 444,
   "metadata": {},
   "outputs": [
    {
     "name": "stdout",
     "output_type": "stream",
     "text": [
      "1.07 s ± 62.9 ms per loop (mean ± std. dev. of 7 runs, 1 loop each)\n"
     ]
    }
   ],
   "source": [
    "%%timeit\n",
    "coltypes_2 = {'ConstituentBeginDate': float, 'ConstituentEndDate':float} \n",
    "chunk_iter_3 = pd.read_csv('moma_exhibitions/moma.csv', chunksize=1000, dtype=coltypes_2)\n",
    "const_spreads = []\n",
    "for chunk in chunk_iter_3:\n",
    "        diff = chunk.ConstituentEndDate - chunk.ConstituentBeginDate\n",
    "        const_spreads.append(diff)"
   ]
  },
  {
   "cell_type": "code",
   "execution_count": 445,
   "metadata": {},
   "outputs": [
    {
     "name": "stdout",
     "output_type": "stream",
     "text": [
      "<class 'pandas.core.series.Series'>\n",
      "(34558,)\n",
      "0    79.0\n",
      "1    67.0\n",
      "2    55.0\n",
      "3    37.0\n",
      "4    32.0\n",
      "5    74.0\n",
      "6    52.0\n",
      "7    41.0\n",
      "8    85.0\n",
      "9    65.0\n",
      "dtype: float64\n"
     ]
    }
   ],
   "source": [
    "combine_spreads = pd.concat(const_spreads)\n",
    "\n",
    "print(type(combine_spreads))\n",
    "print(combine_spreads.shape)\n",
    "print(combine_spreads[:10])"
   ]
  },
  {
   "cell_type": "code",
   "execution_count": 446,
   "metadata": {},
   "outputs": [
    {
     "name": "stdout",
     "output_type": "stream",
     "text": [
      "781 ms ± 103 ms per loop (mean ± std. dev. of 7 runs, 1 loop each)\n"
     ]
    }
   ],
   "source": [
    "%%timeit\n",
    "\n",
    "coltypes_3 = {'ConstituentBeginDate': float, 'ConstituentEndDate':float} \n",
    "chunk_iter_3 = pd.read_csv('moma_exhibitions/moma.csv', chunksize=1000, dtype=coltypes_3,\n",
    "                            usecols=['ConstituentBeginDate', 'ConstituentEndDate'])\n",
    "const_spreads_2 = []\n",
    "for chunk in chunk_iter_3:\n",
    "        diff = chunk.ConstituentEndDate - chunk.ConstituentBeginDate\n",
    "        const_spreads_2.append(diff)"
   ]
  },
  {
   "cell_type": "markdown",
   "metadata": {},
   "source": [
    "Using only the columns necessary for the operation reduces the runtime significantly from 1.04 s\n",
    "to 668 ms."
   ]
  },
  {
   "cell_type": "markdown",
   "metadata": {},
   "source": [
    "#### Gender"
   ]
  },
  {
   "cell_type": "code",
   "execution_count": 447,
   "metadata": {},
   "outputs": [
    {
     "name": "stdout",
     "output_type": "stream",
     "text": [
      "Male      23268\n",
      "Female     2527\n",
      "Name: Gender, dtype: int64\n"
     ]
    },
    {
     "data": {
      "text/plain": [
       "<matplotlib.axes._subplots.AxesSubplot at 0x2756b3fa1d0>"
      ]
     },
     "execution_count": 447,
     "metadata": {},
     "output_type": "execute_result"
    },
    {
     "data": {
      "image/png": "[encoded data removed]",
      "text/plain": [
       "<Figure size 432x288 with 1 Axes>"
      ]
     },
     "metadata": {
      "needs_background": "light"
     },
     "output_type": "display_data"
    }
   ],
   "source": [
    "modernart_55 = modernart[modernart.Gender != 'male']\n",
    "print(modernart_55.Gender.value_counts())\n",
    "modernart_55.Gender.value_counts().plot(kind='bar', color= ['r' , 'g'], edgecolor=\"black\", linewidth=2)"
   ]
  },
  {
   "cell_type": "code",
   "execution_count": 465,
   "metadata": {},
   "outputs": [],
   "source": [
    "chunk_iter_4 = pd.read_csv('moma_exhibitions/moma.csv', chunksize=1000, \n",
    "                            usecols=['Gender'])\n",
    "total_vc_gender = list()\n",
    "for chunk in chunk_iter_4:\n",
    "    vc = chunk['Gender'].value_counts()\n",
    "    total_vc_gender.append(vc)\n",
    "\n",
    "concat_vc_gender = pd.concat(total_vc_gender)"
   ]
  },
  {
   "cell_type": "code",
   "execution_count": 470,
   "metadata": {},
   "outputs": [
    {
     "name": "stdout",
     "output_type": "stream",
     "text": [
      "35\n",
      "<class 'pandas.core.series.Series'>\n",
      "Male      700\n",
      "Female     29\n",
      "Male      633\n",
      "Female     35\n",
      "Male      578\n",
      "Name: Gender, dtype: int64\n"
     ]
    }
   ],
   "source": [
    "print(len(total_vc_gender))\n",
    "print(type(concat_vc_gender))\n",
    "print(concat_vc_gender.head())"
   ]
  },
  {
   "cell_type": "code",
   "execution_count": 473,
   "metadata": {},
   "outputs": [
    {
     "data": {
      "text/plain": [
       "Female     2527\n",
       "Male      23268\n",
       "male          1\n",
       "Name: Gender, dtype: int64"
      ]
     },
     "execution_count": 473,
     "metadata": {},
     "output_type": "execute_result"
    }
   ],
   "source": [
    "gender_group = concat_vc_gender.groupby(concat_vc_gender.index).sum()\n",
    "gender_group "
   ]
  },
  {
   "cell_type": "markdown",
   "metadata": {},
   "source": [
    "#### Gender groupby exhibition"
   ]
  },
  {
   "cell_type": "code",
   "execution_count": 483,
   "metadata": {},
   "outputs": [],
   "source": [
    "chunk_iter_6 = pd.read_csv('moma_exhibitions/moma.csv', chunksize=1000, \n",
    "                            usecols=['Gender', 'ExhibitionID'])"
   ]
  },
  {
   "cell_type": "code",
   "execution_count": 484,
   "metadata": {},
   "outputs": [
    {
     "name": "stdout",
     "output_type": "stream",
     "text": [
      "35\n"
     ]
    }
   ],
   "source": [
    "gen_ex = list()\n",
    "\n",
    "for chunk in chunk_iter_6:\n",
    "    gr = chunk['Gender'].groupby(chunk['ExhibitionID']).value_counts()\n",
    "    gen_ex.append(gr)\n",
    "    \n",
    "print(len(gen_ex))"
   ]
  },
  {
   "cell_type": "code",
   "execution_count": 488,
   "metadata": {},
   "outputs": [
    {
     "name": "stdout",
     "output_type": "stream",
     "text": [
      "2259\n",
      "<class 'pandas.core.series.Series'>\n",
      "ExhibitionID  Gender\n",
      "2608.0        Male      47\n",
      "              Female     1\n",
      "2614.0        Male      53\n",
      "              Female     1\n",
      "Name: Gender, dtype: int64\n"
     ]
    }
   ],
   "source": [
    "conc_genex = pd.concat(gen_ex)\n",
    "\n",
    "print(len(conc_genex))\n",
    "print(type(conc_genex))\n",
    "print(conc_genex[5:9])"
   ]
  },
  {
   "cell_type": "code",
   "execution_count": 493,
   "metadata": {},
   "outputs": [
    {
     "data": {
      "text/plain": [
       "Gender\n",
       "Female     2482\n",
       "Male      22940\n",
       "male          1\n",
       "Name: Gender, dtype: int64"
      ]
     },
     "execution_count": 493,
     "metadata": {},
     "output_type": "execute_result"
    }
   ],
   "source": [
    "conc_genex.groupby(by=['Gender']).sum()"
   ]
  },
  {
   "cell_type": "markdown",
   "metadata": {},
   "source": [
    "## Conclusion\n",
    "\n",
    "<p>\n",
    "Pandas allows to reduce the memory footprint for example by determining \n",
    "the sub datatype with the lowest memory usage, turning strings into\n",
    "numbers and read in data in chunks. Of course reading data into chunks\n",
    "requires additional code to synthetize statistics from the number of chunks.\n",
    "Overall Pandas offers a large range of methods for optimization of memory\n",
    "usage. It also helps to think about the essentially needed data instead\n",
    "of simply increasing power.\n",
    "</p> \n"
   ]
  }
 ],
 "metadata": {
  "kernelspec": {
   "display_name": "Python 3",
   "language": "python",
   "name": "python3"
  },
  "language_info": {
   "codemirror_mode": {
    "name": "ipython",
    "version": 3
   },
   "file_extension": ".py",
   "mimetype": "text/x-python",
   "name": "python",
   "nbconvert_exporter": "python",
   "pygments_lexer": "ipython3",
   "version": "3.7.3"
  }
 },
 "nbformat": 4,
 "nbformat_minor": 2
}
